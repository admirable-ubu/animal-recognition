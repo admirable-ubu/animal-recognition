{
 "cells": [
  {
   "cell_type": "code",
   "execution_count": null,
   "id": "23f8f9b4",
   "metadata": {},
   "outputs": [],
   "source": [
    "import numpy as np\n",
    "import pandas as pd\n",
    "\n",
    "from lazypredict.Supervised import LazyClassifier\n",
    "from sklearn.feature_selection import VarianceThreshold"
   ]
  },
  {
   "cell_type": "code",
   "execution_count": null,
   "id": "c984632b",
   "metadata": {},
   "outputs": [],
   "source": [
    "folder = \"../data/\"\n",
    "\n",
    "videos = [\n",
    "    \"Koi_5652_952_540\",\n",
    "    \"Pigeons_29033_960_540_300f\",\n",
    "    \"Pigeons_4927_960_540_600f\",\n",
    "    \"Pigeons_8234_1280_720\",\n",
    "    \"Pigs_49651_960_540_500f\",\n",
    "]\n",
    "\n",
    "features = [\n",
    "    \"AE\",\n",
    "    \"HOG\",\n",
    "    \"LBP\",\n",
    "    \"MN2\",\n",
    "    \"RGB\",\n",
    "]\n",
    "\n",
    "folds = [\"h1\", \"h2\"]"
   ]
  },
  {
   "cell_type": "code",
   "execution_count": null,
   "id": "63e71935",
   "metadata": {
    "scrolled": true
   },
   "outputs": [],
   "source": [
    "results = None\n",
    "\n",
    "for v in videos:\n",
    "    for f in features:\n",
    "        print(v, f)\n",
    "        \n",
    "        h1 = pd.read_csv(f\"{folder}h1_{v}_{f}.csv\")\n",
    "        h2 = pd.read_csv(f\"{folder}h2_{v}_{f}.csv\")\n",
    "        \n",
    "        h1.drop([\"Frames\"], axis=1, inplace=True, errors='ignore')\n",
    "        h2.drop([\"Frames\"], axis=1, inplace=True, errors='ignore')\n",
    "        \n",
    "        accuracies = None\n",
    "\n",
    "        for (train, test) in ((h1, h2), (h2, h1)):\n",
    "            X_train = train.iloc[: , :-1]\n",
    "            y_train = train.iloc[: , -1]\n",
    "                    \n",
    "            X_test = test.iloc[: , :-1]\n",
    "            y_test = test.iloc[: , -1]\n",
    "            \n",
    "            selector = VarianceThreshold()\n",
    "            X_train = selector.fit_transform(X_train)\n",
    "            X_test = selector.transform(X_test)\n",
    "            \n",
    "            clf = LazyClassifier(verbose=0, ignore_warnings=True, custom_metric=None)\n",
    "            models, predictions = clf.fit(X_train, X_test, y_train, y_test)\n",
    "            models.sort_index(inplace=True)\n",
    "            \n",
    "            if accuracies is None:\n",
    "                accuracies = models.iloc[ : , :1]\n",
    "            else:\n",
    "                accuracies +=  models.iloc[ : , :1]\n",
    "                \n",
    "        accuracies /= len(folds)\n",
    "            \n",
    "        if results is None:\n",
    "            results = accuracies\n",
    "            results.columns = [f\"{v}_{f}\"]\n",
    "        else:\n",
    "            results[f\"{v}_{f}\"] = accuracies\n",
    "            \n",
    "    display(results)    \n",
    "\n",
    "results = results.dropna()\n",
    "display(results)\n",
    "\n",
    "results.to_csv(\"animal_classification_results.csv\")"
   ]
  }
 ],
 "metadata": {
  "kernelspec": {
   "display_name": "Python 3.10.8 64-bit",
   "language": "python",
   "name": "python3"
  },
  "language_info": {
   "codemirror_mode": {
    "name": "ipython",
    "version": 3
   },
   "file_extension": ".py",
   "mimetype": "text/x-python",
   "name": "python",
   "nbconvert_exporter": "python",
   "pygments_lexer": "ipython3",
   "version": "3.10.8"
  },
  "vscode": {
   "interpreter": {
    "hash": "e7370f93d1d0cde622a1f8e1c04877d8463912d04d973331ad4851f04de6915a"
   }
  }
 },
 "nbformat": 4,
 "nbformat_minor": 5
}
